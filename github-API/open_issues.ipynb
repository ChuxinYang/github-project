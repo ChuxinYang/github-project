{
 "cells": [
  {
   "cell_type": "markdown",
   "metadata": {},
   "source": [
    "### Sample code - open issues count"
   ]
  },
  {
   "cell_type": "code",
   "execution_count": 1,
   "metadata": {
    "ExecuteTime": {
     "end_time": "2020-03-13T00:58:55.758956Z",
     "start_time": "2020-03-13T00:58:55.041806Z"
    }
   },
   "outputs": [
    {
     "data": {
      "text/plain": [
       "(16467, 2)"
      ]
     },
     "execution_count": 1,
     "metadata": {},
     "output_type": "execute_result"
    }
   ],
   "source": [
    "import pandas as pd\n",
    "merge = pd.read_csv('data/merge_bq_repo_name.csv') # merge_bq_repo_name is the repo name I merged \n",
    "merge.shape"
   ]
  },
  {
   "cell_type": "code",
   "execution_count": 2,
   "metadata": {
    "ExecuteTime": {
     "end_time": "2020-03-13T00:58:57.696283Z",
     "start_time": "2020-03-13T00:58:57.686825Z"
    },
    "scrolled": false
   },
   "outputs": [
    {
     "data": {
      "text/html": [
       "<div>\n",
       "<style scoped>\n",
       "    .dataframe tbody tr th:only-of-type {\n",
       "        vertical-align: middle;\n",
       "    }\n",
       "\n",
       "    .dataframe tbody tr th {\n",
       "        vertical-align: top;\n",
       "    }\n",
       "\n",
       "    .dataframe thead th {\n",
       "        text-align: right;\n",
       "    }\n",
       "</style>\n",
       "<table border=\"1\" class=\"dataframe\">\n",
       "  <thead>\n",
       "    <tr style=\"text-align: right;\">\n",
       "      <th></th>\n",
       "      <th>repo_name</th>\n",
       "      <th>company_name</th>\n",
       "    </tr>\n",
       "  </thead>\n",
       "  <tbody>\n",
       "    <tr>\n",
       "      <th>0</th>\n",
       "      <td>000webhost/000webhost-sdk-js</td>\n",
       "      <td>000webhost</td>\n",
       "    </tr>\n",
       "    <tr>\n",
       "      <th>1</th>\n",
       "      <td>100dayproject/polymer-web-example</td>\n",
       "      <td>100dayproject</td>\n",
       "    </tr>\n",
       "    <tr>\n",
       "      <th>2</th>\n",
       "      <td>18F/18f-cf-release</td>\n",
       "      <td>18F</td>\n",
       "    </tr>\n",
       "    <tr>\n",
       "      <th>3</th>\n",
       "      <td>18F/api-program</td>\n",
       "      <td>18F</td>\n",
       "    </tr>\n",
       "    <tr>\n",
       "      <th>4</th>\n",
       "      <td>18F/caddy-boshrelease</td>\n",
       "      <td>18F</td>\n",
       "    </tr>\n",
       "    <tr>\n",
       "      <th>5</th>\n",
       "      <td>18F/cf-abacus</td>\n",
       "      <td>18F</td>\n",
       "    </tr>\n",
       "    <tr>\n",
       "      <th>6</th>\n",
       "      <td>18F/cf-meteor-buildpack</td>\n",
       "      <td>18F</td>\n",
       "    </tr>\n",
       "    <tr>\n",
       "      <th>7</th>\n",
       "      <td>18F/cg-cf-release</td>\n",
       "      <td>18F</td>\n",
       "    </tr>\n",
       "    <tr>\n",
       "      <th>8</th>\n",
       "      <td>18F/cg-style</td>\n",
       "      <td>18F</td>\n",
       "    </tr>\n",
       "    <tr>\n",
       "      <th>9</th>\n",
       "      <td>18F/cg-style-gem</td>\n",
       "      <td>18F</td>\n",
       "    </tr>\n",
       "  </tbody>\n",
       "</table>\n",
       "</div>"
      ],
      "text/plain": [
       "                           repo_name   company_name\n",
       "0       000webhost/000webhost-sdk-js     000webhost\n",
       "1  100dayproject/polymer-web-example  100dayproject\n",
       "2                 18F/18f-cf-release            18F\n",
       "3                    18F/api-program            18F\n",
       "4              18F/caddy-boshrelease            18F\n",
       "5                      18F/cf-abacus            18F\n",
       "6            18F/cf-meteor-buildpack            18F\n",
       "7                  18F/cg-cf-release            18F\n",
       "8                       18F/cg-style            18F\n",
       "9                   18F/cg-style-gem            18F"
      ]
     },
     "execution_count": 2,
     "metadata": {},
     "output_type": "execute_result"
    }
   ],
   "source": [
    "merge.head(10)"
   ]
  },
  {
   "cell_type": "code",
   "execution_count": 3,
   "metadata": {
    "ExecuteTime": {
     "end_time": "2020-03-13T00:59:54.935484Z",
     "start_time": "2020-03-13T00:59:54.925381Z"
    }
   },
   "outputs": [
    {
     "data": {
      "text/plain": [
       "16467"
      ]
     },
     "execution_count": 3,
     "metadata": {},
     "output_type": "execute_result"
    }
   ],
   "source": [
    "merge_repo = list(merge['repo_name']) # get only repo name from dataset\n",
    "len(merge_repo)"
   ]
  },
  {
   "cell_type": "markdown",
   "metadata": {},
   "source": [
    "### Create pickle to save data in every iteration"
   ]
  },
  {
   "cell_type": "code",
   "execution_count": 4,
   "metadata": {
    "ExecuteTime": {
     "end_time": "2020-03-13T01:40:45.677466Z",
     "start_time": "2020-03-13T01:40:45.673523Z"
    }
   },
   "outputs": [],
   "source": [
    "# -- save picle  \n",
    "import pickle\n",
    "filepath = 'issue_time.pkl'\n",
    "\n",
    "def batch(time_list):\n",
    "    \n",
    "    with open(filepath, 'ab') as f:\n",
    "        pickle.dump(time_list, f)"
   ]
  },
  {
   "cell_type": "markdown",
   "metadata": {},
   "source": [
    "### Scrape data using github API"
   ]
  },
  {
   "cell_type": "code",
   "execution_count": 5,
   "metadata": {
    "ExecuteTime": {
     "end_time": "2020-03-13T01:52:46.046165Z",
     "start_time": "2020-03-13T01:52:43.811412Z"
    },
    "scrolled": false
   },
   "outputs": [
    {
     "name": "stdout",
     "output_type": "stream",
     "text": [
      "0\n",
      "1\n",
      "2\n",
      "3\n",
      "4\n",
      "5\n"
     ]
    }
   ],
   "source": [
    "import requests\n",
    "import time\n",
    "import json\n",
    "\n",
    "\n",
    "auth = ('ChuxinYang','91e1d3e627061ed6a05265bfe9d32bd547074941') \n",
    "\n",
    "open_issue_time = []\n",
    "\n",
    "for j in range(len(merge_repo)): \n",
    "\n",
    "    page = 1\n",
    "    while True: \n",
    "        \n",
    "        # use github API to scrape data\n",
    "        get = requests.get('https://api.github.com/repos/'+ str(merge_repo[j]) +'/issues?page='+ str(page) +'&per_page=100/access_tokens',\n",
    "                      auth = auth)\n",
    "        get_json = json.loads(get.text)\n",
    "        time.sleep(1) # rate limit\n",
    "        \n",
    "        # test if this repo still exist\n",
    "        if type(get_json) == dict:\n",
    "            break\n",
    "            \n",
    "        else:\n",
    "            if len(get_json) == 0: # if there is nothing inside, break out of the loop and look for next repo\n",
    "                break\n",
    " \n",
    "                \n",
    "            for i in range(len(get_json)):\n",
    "                \n",
    "                repo_tuple = tuple([merge_repo[j]]) # save the repo name first\n",
    "                repo_tuple += tuple([get_json[i]['user']['login']]) # save the user login name\n",
    "                repo_tuple += tuple([get_json[i]['created_at']]) # save the created at time\n",
    "                repo_tuple += tuple([get_json[i]['updated_at']]) # save the updated at time \n",
    "                repo_tuple += tuple([get_json[i]['closed_at']]) # save the closed at time\n",
    "\n",
    "                batch(repo_tuple) # call batch function to save repo_tuple in a pickle file\n",
    "                    \n",
    "            page += 1 \n",
    "    print(j) # print which repo we are scraping"
   ]
  },
  {
   "cell_type": "markdown",
   "metadata": {},
   "source": [
    "### Open pickle file and load data"
   ]
  },
  {
   "cell_type": "code",
   "execution_count": 6,
   "metadata": {
    "scrolled": false
   },
   "outputs": [
    {
     "data": {
      "text/html": [
       "<div>\n",
       "<style scoped>\n",
       "    .dataframe tbody tr th:only-of-type {\n",
       "        vertical-align: middle;\n",
       "    }\n",
       "\n",
       "    .dataframe tbody tr th {\n",
       "        vertical-align: top;\n",
       "    }\n",
       "\n",
       "    .dataframe thead th {\n",
       "        text-align: right;\n",
       "    }\n",
       "</style>\n",
       "<table border=\"1\" class=\"dataframe\">\n",
       "  <thead>\n",
       "    <tr style=\"text-align: right;\">\n",
       "      <th></th>\n",
       "      <th>repo_name</th>\n",
       "      <th>user_login</th>\n",
       "      <th>created_at</th>\n",
       "      <th>updated_at</th>\n",
       "      <th>closed_at</th>\n",
       "    </tr>\n",
       "  </thead>\n",
       "  <tbody>\n",
       "    <tr>\n",
       "      <th>0</th>\n",
       "      <td>18F/api-program</td>\n",
       "      <td>gbinal</td>\n",
       "      <td>2016-10-05T20:22:24Z</td>\n",
       "      <td>2016-10-05T20:22:24Z</td>\n",
       "      <td>None</td>\n",
       "    </tr>\n",
       "    <tr>\n",
       "      <th>1</th>\n",
       "      <td>18F/api-program</td>\n",
       "      <td>gbinal</td>\n",
       "      <td>2016-09-26T18:39:15Z</td>\n",
       "      <td>2016-09-28T16:21:41Z</td>\n",
       "      <td>None</td>\n",
       "    </tr>\n",
       "    <tr>\n",
       "      <th>2</th>\n",
       "      <td>18F/api-program</td>\n",
       "      <td>gbinal</td>\n",
       "      <td>2016-09-15T15:02:43Z</td>\n",
       "      <td>2016-09-15T15:02:43Z</td>\n",
       "      <td>None</td>\n",
       "    </tr>\n",
       "    <tr>\n",
       "      <th>3</th>\n",
       "      <td>18F/api-program</td>\n",
       "      <td>gbinal</td>\n",
       "      <td>2016-08-18T17:49:00Z</td>\n",
       "      <td>2016-08-18T17:49:09Z</td>\n",
       "      <td>None</td>\n",
       "    </tr>\n",
       "    <tr>\n",
       "      <th>4</th>\n",
       "      <td>18F/api-program</td>\n",
       "      <td>gbinal</td>\n",
       "      <td>2016-07-29T12:01:49Z</td>\n",
       "      <td>2016-07-29T12:01:49Z</td>\n",
       "      <td>None</td>\n",
       "    </tr>\n",
       "    <tr>\n",
       "      <th>...</th>\n",
       "      <td>...</td>\n",
       "      <td>...</td>\n",
       "      <td>...</td>\n",
       "      <td>...</td>\n",
       "      <td>...</td>\n",
       "    </tr>\n",
       "    <tr>\n",
       "      <th>86</th>\n",
       "      <td>18F/api-program</td>\n",
       "      <td>gbinal</td>\n",
       "      <td>2015-02-11T18:46:17Z</td>\n",
       "      <td>2015-04-14T20:10:05Z</td>\n",
       "      <td>None</td>\n",
       "    </tr>\n",
       "    <tr>\n",
       "      <th>87</th>\n",
       "      <td>18F/api-program</td>\n",
       "      <td>gbinal</td>\n",
       "      <td>2015-02-11T18:44:24Z</td>\n",
       "      <td>2015-04-14T20:10:13Z</td>\n",
       "      <td>None</td>\n",
       "    </tr>\n",
       "    <tr>\n",
       "      <th>88</th>\n",
       "      <td>18F/api-program</td>\n",
       "      <td>gbinal</td>\n",
       "      <td>2015-02-11T18:43:32Z</td>\n",
       "      <td>2015-04-14T20:10:25Z</td>\n",
       "      <td>None</td>\n",
       "    </tr>\n",
       "    <tr>\n",
       "      <th>89</th>\n",
       "      <td>18F/api-program</td>\n",
       "      <td>gbinal</td>\n",
       "      <td>2015-02-11T18:40:30Z</td>\n",
       "      <td>2015-04-14T20:11:17Z</td>\n",
       "      <td>None</td>\n",
       "    </tr>\n",
       "    <tr>\n",
       "      <th>90</th>\n",
       "      <td>18F/api-program</td>\n",
       "      <td>gbinal</td>\n",
       "      <td>2015-02-11T18:40:26Z</td>\n",
       "      <td>2015-04-14T20:11:22Z</td>\n",
       "      <td>None</td>\n",
       "    </tr>\n",
       "  </tbody>\n",
       "</table>\n",
       "<p>91 rows × 5 columns</p>\n",
       "</div>"
      ],
      "text/plain": [
       "          repo_name user_login            created_at            updated_at  \\\n",
       "0   18F/api-program     gbinal  2016-10-05T20:22:24Z  2016-10-05T20:22:24Z   \n",
       "1   18F/api-program     gbinal  2016-09-26T18:39:15Z  2016-09-28T16:21:41Z   \n",
       "2   18F/api-program     gbinal  2016-09-15T15:02:43Z  2016-09-15T15:02:43Z   \n",
       "3   18F/api-program     gbinal  2016-08-18T17:49:00Z  2016-08-18T17:49:09Z   \n",
       "4   18F/api-program     gbinal  2016-07-29T12:01:49Z  2016-07-29T12:01:49Z   \n",
       "..              ...        ...                   ...                   ...   \n",
       "86  18F/api-program     gbinal  2015-02-11T18:46:17Z  2015-04-14T20:10:05Z   \n",
       "87  18F/api-program     gbinal  2015-02-11T18:44:24Z  2015-04-14T20:10:13Z   \n",
       "88  18F/api-program     gbinal  2015-02-11T18:43:32Z  2015-04-14T20:10:25Z   \n",
       "89  18F/api-program     gbinal  2015-02-11T18:40:30Z  2015-04-14T20:11:17Z   \n",
       "90  18F/api-program     gbinal  2015-02-11T18:40:26Z  2015-04-14T20:11:22Z   \n",
       "\n",
       "   closed_at  \n",
       "0       None  \n",
       "1       None  \n",
       "2       None  \n",
       "3       None  \n",
       "4       None  \n",
       "..       ...  \n",
       "86      None  \n",
       "87      None  \n",
       "88      None  \n",
       "89      None  \n",
       "90      None  \n",
       "\n",
       "[91 rows x 5 columns]"
      ]
     },
     "execution_count": 6,
     "metadata": {},
     "output_type": "execute_result"
    }
   ],
   "source": [
    "import pickle\n",
    "import pandas as pd\n",
    "colnames = ['repo_name', 'user_login','created_at','updated_at','closed_at'] # set column names\n",
    "\n",
    "info = []\n",
    "with open('issue_time.pkl', 'rb') as fr:\n",
    "    try:\n",
    "        while True:\n",
    "            info.append(pickle.load(fr))\n",
    "    except EOFError:\n",
    "        pass\n",
    "    \n",
    "repo_info = pd.DataFrame(info, columns=colnames)\n",
    "repo_info"
   ]
  },
  {
   "cell_type": "code",
   "execution_count": null,
   "metadata": {},
   "outputs": [],
   "source": []
  }
 ],
 "metadata": {
  "kernelspec": {
   "display_name": "Python 3",
   "language": "python",
   "name": "python3"
  },
  "language_info": {
   "codemirror_mode": {
    "name": "ipython",
    "version": 3
   },
   "file_extension": ".py",
   "mimetype": "text/x-python",
   "name": "python",
   "nbconvert_exporter": "python",
   "pygments_lexer": "ipython3",
   "version": "3.8.1"
  },
  "latex_envs": {
   "LaTeX_envs_menu_present": true,
   "autoclose": false,
   "autocomplete": true,
   "bibliofile": "biblio.bib",
   "cite_by": "apalike",
   "current_citInitial": 1,
   "eqLabelWithNumbers": true,
   "eqNumInitial": 1,
   "hotkeys": {
    "equation": "Ctrl-E",
    "itemize": "Ctrl-I"
   },
   "labels_anchors": false,
   "latex_user_defs": false,
   "report_style_numbering": false,
   "user_envs_cfg": false
  },
  "toc": {
   "base_numbering": 1,
   "nav_menu": {},
   "number_sections": true,
   "sideBar": true,
   "skip_h1_title": false,
   "title_cell": "Table of Contents",
   "title_sidebar": "Contents",
   "toc_cell": false,
   "toc_position": {},
   "toc_section_display": true,
   "toc_window_display": false
  },
  "varInspector": {
   "cols": {
    "lenName": 16,
    "lenType": 16,
    "lenVar": 40
   },
   "kernels_config": {
    "python": {
     "delete_cmd_postfix": "",
     "delete_cmd_prefix": "del ",
     "library": "var_list.py",
     "varRefreshCmd": "print(var_dic_list())"
    },
    "r": {
     "delete_cmd_postfix": ") ",
     "delete_cmd_prefix": "rm(",
     "library": "var_list.r",
     "varRefreshCmd": "cat(var_dic_list()) "
    }
   },
   "types_to_exclude": [
    "module",
    "function",
    "builtin_function_or_method",
    "instance",
    "_Feature"
   ],
   "window_display": false
  }
 },
 "nbformat": 4,
 "nbformat_minor": 2
}
